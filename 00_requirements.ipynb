{
 "cells": [
  {
   "cell_type": "markdown",
   "metadata": {},
   "source": [
    "Requirements and dependencies\n",
    "=============================\n",
    "\n",
    "You will need to install [vsearch](https://github.com/torognes/vsearch),\n",
    "[cutadapt](https://github.com/marcelm/cutadapt/),\n",
    "[swarm](https://github.com/torognes/swarm), and\n",
    "[lulu](https://github.com/tobiasgf/lulu).\n",
    "\n",
    "I will assume that you also have [python](https://www.python.org/)\n",
    "(version 3.5 or more), [R](https://cran.r-project.org/) (version 3.5 or\n",
    "more), and [bash](https://www.gnu.org/software/bash/) (version 4 or\n",
    "more).\n",
    "\n",
    "``` bash\n",
    "#!/usr/bin/env bash\n",
    "\n",
    "# check software versions\n",
    "for SOFT in bash R python3 swarm vsearch cutadapt ; do\n",
    "    \"${SOFT}\" --version 2>&1 | head -n 1\n",
    "    echo\n",
    "done\n",
    "```\n",
    "\n",
    "<span class=\"todo TODO\">TODO</span> Quality checks\n",
    "==================================================\n",
    "\n",
    "``` bash\n",
    "for FASTA in ./data/*.fas ; do\n",
    "    cat ${FASTA}\n",
    "done\n",
    "```\n",
    "\n",
    "### plot\n",
    "\n",
    "sub-level"
   ]
  }
 ],
 "nbformat": 4,
 "nbformat_minor": 5,
 "metadata": {}
}
