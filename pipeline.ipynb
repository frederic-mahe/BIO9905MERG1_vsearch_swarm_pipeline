{
 "cells": [
  {
   "cell_type": "markdown",
   "metadata": {},
   "source": [
    "Pipeline\n",
    "========\n",
    "\n",
    "open questions:\n",
    "\n",
    "-   wget fastq files from GitHub,\n",
    "-   all code blocks are launched from \\$HOME and not from the latest\n",
    "    folder?\n",
    "\n",
    "Google Colab\n",
    "------------\n",
    "\n",
    "Let’s explore the environment:"
   ]
  },
  {
   "cell_type": "code",
   "execution_count": null,
   "metadata": {},
   "outputs": [],
   "source": [
    "%%shell\n",
    "\n",
    "date\n",
    "whoami"
   ]
  },
  {
   "cell_type": "markdown",
   "metadata": {},
   "source": [
    "We are root! Maximal clearance level.\n",
    "\n",
    "Check version numbers:"
   ]
  },
  {
   "cell_type": "code",
   "execution_count": null,
   "metadata": {},
   "outputs": [],
   "source": [
    "%%shell\n",
    "\n",
    "uname -a\n",
    "bash --version\n",
    "git --version\n",
    "gcc --version\n",
    "python --version\n",
    "R --version"
   ]
  },
  {
   "cell_type": "markdown",
   "metadata": {},
   "source": [
    "What about hardware resources?"
   ]
  },
  {
   "cell_type": "code",
   "execution_count": null,
   "metadata": {},
   "outputs": [],
   "source": [
    "%%shell\n",
    "\n",
    "df -h\n",
    "cat /proc/cpuinfo\n",
    "cat /proc/meminfo"
   ]
  },
  {
   "cell_type": "markdown",
   "metadata": {},
   "source": [
    "It seems that Google colab instances are virtual x86-64 machines with 2\n",
    "CPU-cores, 16 GB of RAM and 80 GB of storage space. The operating system\n",
    "is Ubuntu LTS 20.04. LTS stands for long-term support, the most recent\n",
    "LTS at the time of writing is 22.04. Version 20.04 will be supported\n",
    "until April 2025. Its `gcc` version is a bit old (9.2), and might not\n",
    "allow to compile code based on very recent standards (e.g.; `mumu` wich\n",
    "uses C++20 features).\n",
    "\n",
    "I will assume that you also have [python](https://www.python.org/)\n",
    "(version 3.5 or more), [R](https://cran.r-project.org/) (version 3.5 or\n",
    "more), and [bash](https://www.gnu.org/software/bash/) (version 4 or\n",
    "more).\n",
    "\n",
    "Git and compilation tools are already installed.\n",
    "\n",
    "Is it possible to\n",
    "\n",
    "Note: it seems that in `%%shell` code blocks, `cd` moves, variable\n",
    "declarations, and function declarations are limited to the current block\n",
    "(no effect on downstream code blocks).\n",
    "\n",
    "Let’s create some folders:"
   ]
  },
  {
   "cell_type": "code",
   "execution_count": null,
   "metadata": {},
   "outputs": [],
   "source": [
    "%%shell\n",
    "\n",
    "mkdir -p src data results"
   ]
  },
  {
   "cell_type": "markdown",
   "metadata": {},
   "source": [
    "install dependencies\n",
    "--------------------\n",
    "\n",
    "You will need to install [vsearch](https://github.com/torognes/vsearch),\n",
    "[cutadapt](https://github.com/marcelm/cutadapt/), and\n",
    "[swarm](https://github.com/torognes/swarm).\n",
    "\n",
    "### install cutadapt\n",
    "\n",
    "using conda\n",
    "\n",
    "…"
   ]
  },
  {
   "cell_type": "code",
   "execution_count": null,
   "metadata": {},
   "outputs": [],
   "source": [
    "%%shell\n",
    "\n",
    "apt search cutadapt"
   ]
  },
  {
   "cell_type": "markdown",
   "metadata": {},
   "source": [
    "### install swarm\n",
    "\n",
    "We could install `swarm` and `vsearch` using `conda`, but for\n",
    "educational purposes, let’s compile them ourselves. We will put their\n",
    "source code in the `src` folder:"
   ]
  },
  {
   "cell_type": "code",
   "execution_count": null,
   "metadata": {},
   "outputs": [],
   "source": [
    "%%shell\n",
    "\n",
    "(cd ./src/\n",
    " git clone https://github.com/torognes/swarm.git\n",
    " cd ./swarm/\n",
    " make\n",
    ")"
   ]
  },
  {
   "cell_type": "code",
   "execution_count": null,
   "metadata": {},
   "outputs": [],
   "source": [
    "%%shell\n",
    "\n",
    "./src/swarm/bin/swarm --version"
   ]
  },
  {
   "cell_type": "markdown",
   "metadata": {},
   "source": [
    "### install vsearch"
   ]
  },
  {
   "cell_type": "code",
   "execution_count": null,
   "metadata": {},
   "outputs": [],
   "source": [
    "%%shell\n",
    "\n",
    "(cd ./src/\n",
    " git clone https://github.com/torognes/vsearch.git\n",
    " cd ./vsearch/\n",
    " ./autogen.sh\n",
    " ./configure CFLAGS=\"-O3\" CXXFLAGS=\"-O3\"\n",
    " make\n",
    ")"
   ]
  },
  {
   "cell_type": "code",
   "execution_count": null,
   "metadata": {},
   "outputs": [],
   "source": [
    "%%shell\n",
    "\n",
    "./src/vsearch/bin/vsearch --version"
   ]
  },
  {
   "cell_type": "markdown",
   "metadata": {},
   "source": [
    "Installing [lulu](https://github.com/tobiasgf/lulu) or\n",
    "[mumu](https://github.com/frederic-mahe/mumu) is not necessary.\n",
    "\n",
    "dataset\n",
    "-------\n",
    "\n",
    "A subset of the Neotropical Forest Soil dataset\n",
    "([PRJNA317860](https://www.ebi.ac.uk/ena/browser/view/PRJNA317860);\n",
    "[Mahé et al., 2017](https://doi.org/10.1038/s41559-017-0091)),\n",
    "corresponding to the following run accessions:\n",
    "\n",
    "    SRR23272700\n",
    "    SRR23272716\n",
    "    SRR23272737\n",
    "    SRR23272741\n",
    "    SRR23272752\n",
    "    SRR23272767\n",
    "    SRR23272778\n",
    "    SRR23272788\n",
    "    SRR23272799\n",
    "    SRR23272803\n",
    "    SRR23272822\n",
    "    SRR23272833\n",
    "    SRR23272848\n",
    "    SRR23272859\n",
    "    SRR23272860\n",
    "    SRR23272861\n",
    "    SRR23272874\n",
    "    SRR23272881\n",
    "    SRR23272890\n",
    "    SRR23272901\n",
    "\n",
    "and subsampled at 1%, using `vsearch`:\n",
    "\n",
    "``` bash\n",
    "function subsample() {\n",
    "    local -ri SEED=1\n",
    "    local -r PERCENTAGE=\"1.0\"\n",
    "    local -r SUBSAMPLED_FASTQ=\"$(sed 's/NG-7070_// ; s/_lib.*_1976//' <<< ${1})\"\n",
    "\n",
    "    vsearch \\\n",
    "        --fastx_subsample \"${1}\" \\\n",
    "        --randseed \"${SEED}\" \\\n",
    "        --sample_pct \"${PERCENTAGE}\" \\\n",
    "        --quiet \\\n",
    "        --fastqout - | \\\n",
    "        gzip - > \"${SUBSAMPLED_FASTQ}\"\n",
    "}\n",
    "\n",
    "\n",
    "export -f subsample\n",
    "\n",
    "find . -name \"NG-7070_*.fastq.gz\" -type f -exec bash -c 'subsample \"$0\"' {} \\;\n",
    "```\n",
    "\n",
    "Note: in a pair of R1 and R2 fastq files, both files have the same\n",
    "number of reads, so using a fix seed (not zero) guarantees that\n",
    "subsamplings results for both R1 and R2 fastq files are identical (same\n",
    "number of reads, same reads, in the same order)\n",
    "\n",
    "aim\n",
    "---\n",
    "\n",
    "Mention some of vsearch's lesser known features such as **sff to fastq**\n",
    "conversion. I'd also like to demonstrate how our tools can be piped\n",
    "(`|`) together to create seamless pipelines. I also had in mind the\n",
    "creation of a reference database from scratch for taxonomic assignment.\n",
    "\n",
    "\\#\\# checks\n",
    "==========="
   ]
  },
  {
   "cell_type": "code",
   "execution_count": null,
   "metadata": {},
   "outputs": [],
   "source": [
    "%%shell\n",
    "for FASTA in ./data/*.fas ; do\n",
    "    cat ${FASTA}\n",
    "done"
   ]
  },
  {
   "cell_type": "code",
   "execution_count": null,
   "metadata": {},
   "outputs": [],
   "source": [
    "%%shell\n",
    "#!/usr/bin/env bash\n",
    "\n",
    "# check software versions\n",
    "for SOFT in bash R python3 swarm vsearch cutadapt ; do\n",
    "    \"${SOFT}\" --version 2>&1 | head -n 1\n",
    "    echo\n",
    "done"
   ]
  }
 ],
 "nbformat": 4,
 "nbformat_minor": 5,
 "metadata": {}
}
